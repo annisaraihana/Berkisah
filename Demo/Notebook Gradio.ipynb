{
 "cells": [
  {
   "cell_type": "code",
   "execution_count": 1,
   "metadata": {},
   "outputs": [],
   "source": [
    "import gradio as gr\n",
    "import time\n",
    "from tqdm import tqdm\n",
    "import re\n",
    "import modules.callbacks\n",
    "import PIL"
   ]
  },
  {
   "cell_type": "code",
   "execution_count": 2,
   "metadata": {},
   "outputs": [],
   "source": [
    "def fake_gpt(text,duration):\n",
    "    splitted_text = text.split(' ')\n",
    "    \n",
    "    for i in tqdm(range(len(splitted_text))):\n",
    "        time.sleep(float(duration))\n",
    "        joined_text = \"\"\n",
    "        for j in range(i+1):\n",
    "            joined_text += splitted_text[j] + \" \"\n",
    "        yield joined_text, joined_text.title(), joined_text.upper(), joined_text.lower()"
   ]
  },
  {
   "cell_type": "code",
   "execution_count": 3,
   "metadata": {},
   "outputs": [],
   "source": [
    "def count_sentences(text):\n",
    "    #From text, count how many . ! ? there are\n",
    "    #If . ! ? are followed by a space,double mark or a new line, then it is a sentence\n",
    "    #If . ! ? in the end of the text, then it is a sentence\n",
    "    return len(re.findall(r'[\\.\\!\\?][\\s\\”\\'\\n]',text)) + len(re.findall(r'[\\.\\!\\?]$',text))\n"
   ]
  },
  {
   "cell_type": "code",
   "execution_count": 4,
   "metadata": {},
   "outputs": [],
   "source": [
    "import gc\n",
    "import torch\n",
    "\n",
    "def clear_torch_cache():\n",
    "    gc.collect()\n",
    "    torch.cuda.empty_cache()"
   ]
  },
  {
   "cell_type": "code",
   "execution_count": 5,
   "metadata": {},
   "outputs": [],
   "source": [
    "from transformers import AutoTokenizer, AutoModelForCausalLM\n",
    "\n",
    "model_path_or_name = \"/home/karuniaperjuangan/AI-Project/text-generation-webui/models/gpt2-small-indonesian-story\"\n",
    "\n",
    "model = AutoModelForCausalLM.from_pretrained(model_path_or_name, torch_dtype=torch.float16).cuda()\n",
    "tokenizer = AutoTokenizer.from_pretrained(model_path_or_name,truncation_side=\"left\")"
   ]
  },
  {
   "cell_type": "code",
   "execution_count": 6,
   "metadata": {},
   "outputs": [],
   "source": [
    "def stream_generate_text(init_text,max_sentences=0,max_tokens=512,hidden_texts=[]):\n",
    "    \"\"\"\n",
    "    init_text: initial text that will be used to generate text\n",
    "    max_sentences: maximum number of sentences to generate\n",
    "    max_tokens: maximum number of tokens to generate\n",
    "    hidden_sentence: list of string that will be hidden from the generated text (example: initial text and unfinished sentences)\n",
    "    \"\"\"\n",
    "    sentence = init_text\n",
    "    inputs_ids = tokenizer(sentence, return_tensors=\"pt\").input_ids.cuda()\n",
    "    continue_generate = True\n",
    "    while continue_generate:\n",
    "        inputs_ids = tokenizer(sentence, return_tensors=\"pt\").input_ids.cuda()\n",
    "        generate_params = {\n",
    "        \"max_new_tokens\": 8,\n",
    "        \"eos_token_id\": tokenizer.eos_token_id,\n",
    "        \"pad_token_id\": tokenizer.eos_token_id,\n",
    "        \"top_k\": 50,\n",
    "        \"top_p\": 0.95,\n",
    "        \"temperature\": 0.9,\n",
    "        \"repetition_penalty\": 1.2,\n",
    "        \"do_sample\": True,\n",
    "        }\n",
    "        generate_params[\"input_ids\"] = inputs_ids\n",
    "        outputs = model.generate(**generate_params)\n",
    "        sentence = tokenizer.decode(outputs[0])\n",
    "        inputs_ids = outputs[0]\n",
    "        #print(count_sentences(sentence)) \n",
    "        outputted_sentences = sentence\n",
    "        for hidden in hidden_texts:\n",
    "            outputted_sentences = outputted_sentences.replace(hidden,\"\")\n",
    "        yield outputted_sentences\n",
    "            \n",
    "        if count_sentences(sentence) >= max_sentences or ( len(inputs_ids)-len(tokenizer.encode(init_text)) ) > max_tokens or tokenizer.eos_token_id in inputs_ids:\n",
    "            continue_generate = False\n",
    "    #Clear text after last ,.\",!\",?\",.,?,!\n",
    "    deleted_text = re.split(r\"[\\.\\!\\?]\",sentence)[-1]\n",
    "\n",
    "    outputted_sentences = sentence.replace(deleted_text,\"\")\n",
    "    for hidden in hidden_texts:\n",
    "        outputted_sentences = outputted_sentences.replace(hidden,\"\")\n",
    "    yield outputted_sentences"
   ]
  },
  {
   "cell_type": "code",
   "execution_count": 12,
   "metadata": {},
   "outputs": [],
   "source": [
    "story_sequence = []\n",
    "\n",
    "def generate_story_and_choices(beginning_text, selected_choice=\"\", num_choices=3, story_beginning=True):\n",
    "    \"\"\"\n",
    "    beginning_text: text that will be used to generate story (if in beginning is the story, else the choice of previous story)\n",
    "    num_choices: number of choices to generate\n",
    "    story_beginning: True if the beginning_text is the story, else False\n",
    "    \"\"\"\n",
    "    global story_sequence\n",
    "    if story_beginning:\n",
    "        story_sequence = []\n",
    "        story = beginning_text\n",
    "    else:\n",
    "        story = \"\"\n",
    "        for item in story_sequence:\n",
    "            story += item\n",
    "    pregenerated_length = len(story)\n",
    "    \n",
    "    story += selected_choice\n",
    "\n",
    "    \n",
    "    choices = [\"...\" for i in range(num_choices)]\n",
    "\n",
    "    for text in stream_generate_text(story,max_sentences=5,max_tokens=512):\n",
    "        story = text\n",
    "        # Di awal, juga tampilkan awalan cerita yang dimasukkan pengguna\n",
    "        yield story[pregenerated_length:] if not story_beginning else story, *choices\n",
    "    \n",
    "    #clean story from html tag\n",
    "    story = re.sub(r\"<[^>]*>\",\"\",story)\n",
    "    \n",
    "    story_sequence.append(story[pregenerated_length:] if not story_beginning else story)\n",
    "    #Generate choices\n",
    "    max_sentences = 2+count_sentences(story)\n",
    "    for i in range(num_choices):\n",
    "        choices[i] = \"\"\n",
    "        for text in stream_generate_text(story,max_sentences=max_sentences,max_tokens=512):\n",
    "            choices[i] = text[len(story):]\n",
    "            yield story[pregenerated_length:], *choices\n",
    "        #clean choices from html tag\n",
    "        choices[i] = re.sub(r\"<[^>]*>\",\"\",choices[i])\n",
    "        \n",
    "def select_choice(choice):\n",
    "    global story_sequence\n",
    "    full_story = \"\"\n",
    "    for item in story_sequence:\n",
    "        full_story += item\n",
    "    for iter in generate_story_and_choices(\"\",selected_choice=choice,story_beginning=False):\n",
    "        yield iter"
   ]
  },
  {
   "cell_type": "code",
   "execution_count": 8,
   "metadata": {},
   "outputs": [],
   "source": [
    "from PIL import Image\n",
    "blank_image = Image.new('RGB', (768, 768), (255,255,255))"
   ]
  },
  {
   "cell_type": "code",
   "execution_count": 15,
   "metadata": {},
   "outputs": [
    {
     "name": "stdout",
     "output_type": "stream",
     "text": [
      "Running on local URL:  http://127.0.0.1:7864\n",
      "\n",
      "To create a public link, set `share=True` in `launch()`.\n"
     ]
    },
    {
     "data": {
      "text/html": [
       "<div><iframe src=\"http://127.0.0.1:7864/\" width=\"100%\" height=\"500\" allow=\"autoplay; camera; microphone; clipboard-read; clipboard-write;\" frameborder=\"0\" allowfullscreen></iframe></div>"
      ],
      "text/plain": [
       "<IPython.core.display.HTML object>"
      ]
     },
     "metadata": {},
     "output_type": "display_data"
    },
    {
     "data": {
      "text/plain": []
     },
     "execution_count": 15,
     "metadata": {},
     "output_type": "execute_result"
    },
    {
     "name": "stdout",
     "output_type": "stream",
     "text": [
      "Pada zaman dahulu, hiduplah seorang gadis\n",
      "Pada zaman dahulu, hiduplah seorang gadis\n"
     ]
    }
   ],
   "source": [
    "with gr.Blocks(css='./style.css') as blocks:\n",
    "    with gr.Column():\n",
    "        with gr.Row():\n",
    "            text = gr.Textbox(label=\"Text\", value=\"Pada zaman dahulu,\")\n",
    "            button = gr.Button(value=\"Generate\")\n",
    "        with gr.Column():\n",
    "            with gr.Row():\n",
    "                output = gr.Markdown(value=\"This is a test\")\n",
    "                #image = gr.Gallery(value=[blank_image])\n",
    "            with gr.Row(elem_classes=\"choicerow\"):\n",
    "                button_1 = gr.Button(value=\"Select\", elem_classes=\"choicebutton\")\n",
    "                choice_1 = gr.Markdown(value=\"This is a choice 1\",elem_classes=\"choice-label\")\n",
    "            with gr.Row(elem_classes=\"choicerow\"):\n",
    "                button_2 = gr.Button(value=\"Select\", elem_classes=\"choicebutton\")\n",
    "                choice_2 = gr.Markdown(value=\"This is a choice 1\",elem_classes=\"choice-label\")\n",
    "            with gr.Row(elem_classes=\"choicerow\"):\n",
    "                button_3 = gr.Button(value=\"Select\", elem_classes=\"choicebutton\")\n",
    "                choice_3 = gr.Markdown(value=\"This is a choice 1\",elem_classes=\"choice-label\")\n",
    "                \n",
    "\n",
    "        with gr.Row():\n",
    "            pass\n",
    "    button.click(generate_story_and_choices,[text],[output,choice_1,choice_2,choice_3])\n",
    "    button_1.click(select_choice,[choice_1],[output,choice_1,choice_2,choice_3])\n",
    "    button_2.click(select_choice,[choice_2],[output,choice_1,choice_2,choice_3])\n",
    "    button_3.click(select_choice,[choice_3],[output,choice_1,choice_2,choice_3])\n",
    "        \n",
    "        \n",
    "blocks.queue().launch()"
   ]
  }
 ],
 "metadata": {
  "kernelspec": {
   "display_name": "base",
   "language": "python",
   "name": "python3"
  },
  "language_info": {
   "codemirror_mode": {
    "name": "ipython",
    "version": 3
   },
   "file_extension": ".py",
   "mimetype": "text/x-python",
   "name": "python",
   "nbconvert_exporter": "python",
   "pygments_lexer": "ipython3",
   "version": "3.9.15"
  },
  "orig_nbformat": 4
 },
 "nbformat": 4,
 "nbformat_minor": 2
}
